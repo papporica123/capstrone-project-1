{
  "nbformat": 4,
  "nbformat_minor": 0,
  "metadata": {
    "colab": {
      "provenance": [],
      "authorship_tag": "ABX9TyPSd4FskoxQA0bIlrlqbvvp",
      "include_colab_link": true
    },
    "kernelspec": {
      "name": "python3",
      "display_name": "Python 3"
    },
    "language_info": {
      "name": "python"
    }
  },
  "cells": [
    {
      "cell_type": "markdown",
      "metadata": {
        "id": "view-in-github",
        "colab_type": "text"
      },
      "source": [
        "<a href=\"https://colab.research.google.com/github/papporica123/capstrone-project-1/blob/main/Untitled36.ipynb\" target=\"_parent\"><img src=\"https://colab.research.google.com/assets/colab-badge.svg\" alt=\"Open In Colab\"/></a>"
      ]
    },
    {
      "cell_type": "code",
      "execution_count": null,
      "metadata": {
        "colab": {
          "base_uri": "https://localhost:8080/"
        },
        "id": "Imf7EyKfgK6I",
        "outputId": "7a8cf437-5651-4d3e-f29e-d17d2e2184d1"
      },
      "outputs": [
        {
          "output_type": "stream",
          "name": "stdout",
          "text": [
            "Let's calculate probability. Please enter choices for the events...\n",
            "Person has step throat? \n",
            " 1. Yes \n",
            " 2. No\n",
            "Enter your choice (1/2): 1\n",
            "Person has tested positive? \n",
            " 1. Yes \n",
            " 2. No\n",
            "Enter your choice (1/2): 2\n",
            "Probabilities for event a and b:\n",
            "Proability of b given a: 0.15\n",
            "Probability of both the events occuring: 0.03\n"
          ]
        }
      ],
      "source": [
        "def find_prob(a,b):\n",
        "\n",
        "\tif a==1:\n",
        "\t\tprob_a = 0.2\n",
        "\t\tif b==1:\n",
        "\t\t\tprob_bga = 0.85\n",
        "\t\telif b==2:\n",
        "\t\t\tprob_bga = 0.15\n",
        "\t\telse:\n",
        "\t\t\tprint(\"Invalid Choice\")\n",
        "\t\tprob_a_and_b = prob_a * prob_bga\n",
        "\t\tprint(\"Proability of b given a:\", prob_bga)\n",
        "\t\tprint(\"Probability of both the events occuring:\", prob_a_and_b)\n",
        "\n",
        "\telif a==2:\n",
        "\t\tprob_a = 0.8\n",
        "\t\tif b==1:\n",
        "\t\t\tprob_bga = 0.02\n",
        "\t\telif b==2:\n",
        "\t\t\tprob_bga = 0.98\n",
        "\t\telse:\n",
        "\t\t\tprint(\"Invalid Choice\")\n",
        "\t\tprob_a_and_b = prob_a * prob_bga\n",
        "\t\tprint(\"Proability of b given a:\", prob_bga)\n",
        "\t\tprint(\"Probability of both the events occuring:\", prob_a_and_b)\n",
        "\n",
        "\telse:\n",
        "\t\tprint(\"Invalid Choice\")\n",
        "\n",
        "print(\"Let's calculate probability. Please enter choices for the events...\")\n",
        "\n",
        "print(\"Person has step throat? \\n 1. Yes \\n 2. No\")\n",
        "a = int(input(\"Enter your choice (1/2): \"))\n",
        "\n",
        "print(\"Person has tested positive? \\n 1. Yes \\n 2. No\")\n",
        "b = int(input(\"Enter your choice (1/2): \"))\n",
        "\n",
        "print(\"Probabilities for event a and b:\")\n",
        "find_prob(a,b)\n"
      ]
    },
    {
      "cell_type": "code",
      "source": [
        "import numpy as np\n",
        "die_side=int(input(\"enter a number form 1 2 6\"))\n",
        "dice=range(1,die_side)\n",
        "roll=np.random.choice(dice)\n",
        "print(roll)\n",
        "result=np.random.choice(dice,size=roll,replace=True )\n",
        "print(result)"
      ],
      "metadata": {
        "colab": {
          "base_uri": "https://localhost:8080/"
        },
        "id": "ipY6_yXminTE",
        "outputId": "f70f09c4-684a-42fc-8684-3f0cd5f102d4"
      },
      "execution_count": null,
      "outputs": [
        {
          "output_type": "stream",
          "name": "stdout",
          "text": [
            "enter a number form 1 2 64\n",
            "3\n",
            "[3 3 2]\n"
          ]
        }
      ]
    }
  ]
}