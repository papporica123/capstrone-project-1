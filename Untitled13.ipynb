{
  "nbformat": 4,
  "nbformat_minor": 0,
  "metadata": {
    "colab": {
      "provenance": [],
      "authorship_tag": "ABX9TyNkAv3ComWw1XfaNFMzvaFA",
      "include_colab_link": true
    },
    "kernelspec": {
      "name": "python3",
      "display_name": "Python 3"
    },
    "language_info": {
      "name": "python"
    }
  },
  "cells": [
    {
      "cell_type": "markdown",
      "metadata": {
        "id": "view-in-github",
        "colab_type": "text"
      },
      "source": [
        "<a href=\"https://colab.research.google.com/github/papporica123/capstrone-project-1/blob/main/Untitled13.ipynb\" target=\"_parent\"><img src=\"https://colab.research.google.com/assets/colab-badge.svg\" alt=\"Open In Colab\"/></a>"
      ]
    },
    {
      "cell_type": "code",
      "execution_count": 7,
      "metadata": {
        "colab": {
          "base_uri": "https://localhost:8080/"
        },
        "id": "q4Ewcv2PvEpf",
        "outputId": "fd301233-71d8-4b74-f44b-aa9715672d06"
      },
      "outputs": [
        {
          "output_type": "stream",
          "name": "stdout",
          "text": [
            "[(b'hus', 12, 4.5) (b'sus',  2, 8.3) (b'ganesh',  8, 5.2)\n",
            " (b'pablo escobar', 14, 5.7)]\n",
            "[(b'hus', 12, 4.5) (b'ganesh',  8, 5.2) (b'pablo escobar', 14, 5.7)\n",
            " (b'sus',  2, 8.3)]\n",
            "[(b'sus',  2, 8.3) (b'ganesh',  8, 5.2) (b'hus', 12, 4.5)\n",
            " (b'pablo escobar', 14, 5.7)]\n",
            "[(b'ganesh',  8, 5.2) (b'hus', 12, 4.5) (b'pablo escobar', 14, 5.7)\n",
            " (b'sus',  2, 8.3)]\n"
          ]
        }
      ],
      "source": [
        "import numpy as np\n",
        "a=[('name', 'S15'),('class', int),('height', float)]\n",
        "stu_details=[('hus', 12, 4.5),('sus', 2, 8.3),('ganesh', 8, 5.2),('pablo escobar', 14, 5.7)]\n",
        "stu=np.array(stu_details, dtype=a)\n",
        "print(stu)\n",
        "print(np.sort(stu, order='height'))\n",
        "print(np.sort(stu, order='class'))\n",
        "print(np.sort(stu, order='name'))"
      ]
    },
    {
      "cell_type": "code",
      "source": [
        "import numpy as np\n",
        "a=np.arange(9, dtype=np.float_).reshape(3,3)\n",
        "print(a)\n",
        "print(\"\\n\")\n",
        "b=np.array([10,10,10])\n",
        "print(b)\n",
        "print(\"\\n\")\n",
        "print(np.add(a,b))\n",
        "print(\"\\n\")\n",
        "print(np.subtract(a,b))\n",
        "print(\"\\n\")\n",
        "print(np.multiply(a,b))\n",
        "print(\"\\n\")\n",
        "print(np.divide(a,b))\n",
        "print(\"\\n\")"
      ],
      "metadata": {
        "colab": {
          "base_uri": "https://localhost:8080/"
        },
        "id": "w3M92vn0y4JJ",
        "outputId": "2c9b88a0-a02c-45ac-b02a-5a61775fcb41"
      },
      "execution_count": 9,
      "outputs": [
        {
          "output_type": "stream",
          "name": "stdout",
          "text": [
            "[[0. 1. 2.]\n",
            " [3. 4. 5.]\n",
            " [6. 7. 8.]]\n",
            "\n",
            "\n",
            "[10 10 10]\n",
            "\n",
            "\n",
            "[[10. 11. 12.]\n",
            " [13. 14. 15.]\n",
            " [16. 17. 18.]]\n",
            "\n",
            "\n",
            "[[-10.  -9.  -8.]\n",
            " [ -7.  -6.  -5.]\n",
            " [ -4.  -3.  -2.]]\n",
            "\n",
            "\n",
            "[[ 0. 10. 20.]\n",
            " [30. 40. 50.]\n",
            " [60. 70. 80.]]\n",
            "\n",
            "\n",
            "[[0.  0.1 0.2]\n",
            " [0.3 0.4 0.5]\n",
            " [0.6 0.7 0.8]]\n",
            "\n",
            "\n"
          ]
        }
      ]
    }
  ]
}