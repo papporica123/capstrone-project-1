{
  "nbformat": 4,
  "nbformat_minor": 0,
  "metadata": {
    "colab": {
      "provenance": [],
      "authorship_tag": "ABX9TyPqIiprt7N0DkGg5eaHi+xj",
      "include_colab_link": true
    },
    "kernelspec": {
      "name": "python3",
      "display_name": "Python 3"
    },
    "language_info": {
      "name": "python"
    }
  },
  "cells": [
    {
      "cell_type": "markdown",
      "metadata": {
        "id": "view-in-github",
        "colab_type": "text"
      },
      "source": [
        "<a href=\"https://colab.research.google.com/github/papporica123/capstrone-project-1/blob/main/Untitled81.ipynb\" target=\"_parent\"><img src=\"https://colab.research.google.com/assets/colab-badge.svg\" alt=\"Open In Colab\"/></a>"
      ]
    },
    {
      "cell_type": "code",
      "execution_count": 1,
      "metadata": {
        "colab": {
          "base_uri": "https://localhost:8080/"
        },
        "id": "gdo2mfwnF4fB",
        "outputId": "4991b181-f665-4fd3-e219-5c709bcdb3c3"
      },
      "outputs": [
        {
          "output_type": "stream",
          "name": "stdout",
          "text": [
            "Collecting vcam\n",
            "  Downloading vcam-1.0-py3-none-any.whl.metadata (175 bytes)\n",
            "Downloading vcam-1.0-py3-none-any.whl (3.2 kB)\n",
            "Installing collected packages: vcam\n",
            "Successfully installed vcam-1.0\n"
          ]
        }
      ],
      "source": [
        "pip install vcam"
      ]
    },
    {
      "cell_type": "code",
      "source": [
        "import cv2\n",
        "import numpy as np\n",
        "import math\n",
        "from vcam import vcam,meshGen\n",
        "\n",
        "plt.figure(figsize=(20,20))\n",
        "\n",
        "img=cv2.imread(\"minions.jpg\")\n",
        "H,W=img.shape[:2]\n",
        "\n",
        "c1=vcam(H=H,W=W)\n",
        "plane=meshGen(H=H,W=W)\n",
        "plane.Z += 20*np.exp(-0.5*(plane.X*1.0/plane.W)**2-0.5*(plane.Y/100)**2)\n",
        "pts3d=plane.getPlane()\n",
        "\n",
        "ptsd2d= c1.project(pts3d)\n",
        "map_x,map_y=c1.getMaps(pts2d)\n",
        "\n",
        "\n",
        "out=cv2.remap(img,map_x,map_y,cv2.INTER_LINEAR)\n",
        "\n",
        "plt.subplot(1,2,1)\n",
        "plt.title(\"Funny mirror\")\n",
        "plt.imshow(cv2.cvtColor(out,cv2.COLOR_BGR2RGB))"
      ],
      "metadata": {
        "id": "stTG3kJHF9rh"
      },
      "execution_count": null,
      "outputs": []
    }
  ]
}