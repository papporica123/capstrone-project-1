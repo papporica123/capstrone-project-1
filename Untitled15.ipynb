{
  "nbformat": 4,
  "nbformat_minor": 0,
  "metadata": {
    "colab": {
      "provenance": [],
      "authorship_tag": "ABX9TyNd6qa33+FYSrpBmblgI0aU",
      "include_colab_link": true
    },
    "kernelspec": {
      "name": "python3",
      "display_name": "Python 3"
    },
    "language_info": {
      "name": "python"
    }
  },
  "cells": [
    {
      "cell_type": "markdown",
      "metadata": {
        "id": "view-in-github",
        "colab_type": "text"
      },
      "source": [
        "<a href=\"https://colab.research.google.com/github/papporica123/capstrone-project-1/blob/main/Untitled15.ipynb\" target=\"_parent\"><img src=\"https://colab.research.google.com/assets/colab-badge.svg\" alt=\"Open In Colab\"/></a>"
      ]
    },
    {
      "cell_type": "code",
      "execution_count": null,
      "metadata": {
        "colab": {
          "base_uri": "https://localhost:8080/"
        },
        "id": "ejFepsqMxJqM",
        "outputId": "c4938d98-720a-47f6-a768-9abe1caadb36"
      },
      "outputs": [
        {
          "output_type": "stream",
          "name": "stdout",
          "text": [
            "              name  scores  attemp qualify\n",
            "a      james gates      10      48      no\n",
            "b    pablo escobar      87      63     yes\n",
            "c   jones fortnite     291       1     yes\n",
            "d  peeely fortnite     992       1     yes\n",
            "<class 'pandas.core.frame.DataFrame'>\n",
            "Index: 4 entries, a to d\n",
            "Data columns (total 4 columns):\n",
            " #   Column   Non-Null Count  Dtype \n",
            "---  ------   --------------  ----- \n",
            " 0   name     4 non-null      object\n",
            " 1   scores   4 non-null      int64 \n",
            " 2   attemp   4 non-null      int64 \n",
            " 3   qualify  4 non-null      object\n",
            "dtypes: int64(2), object(2)\n",
            "memory usage: 160.0+ bytes\n",
            "None\n",
            "           scores     attemp\n",
            "count    4.000000   4.000000\n",
            "mean   345.000000  28.250000\n",
            "std    447.330601  32.055941\n",
            "min     10.000000   1.000000\n",
            "25%     67.750000   1.000000\n",
            "50%    189.000000  24.500000\n",
            "75%    466.250000  51.750000\n",
            "max    992.000000  63.000000\n"
          ]
        }
      ],
      "source": [
        "import pandas as pd\n",
        "import numpy as np\n",
        "ed={'name':['james gates', 'pablo escobar', 'jones fortnite', 'peeely fortnite'],\n",
        "    'scores':[10, 87, 291, 992],\n",
        "    'attemp':[48, 63, 1, 1],\n",
        "    'qualify':['no', 'yes', 'yes', 'yes']}\n",
        "labels=['a','b','c','d']\n",
        "df=pd.DataFrame(ed, index=labels)\n",
        "print(df)\n",
        "print(df.info())\n",
        "print(df.describe())"
      ]
    }
  ]
}