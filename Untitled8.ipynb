{
  "nbformat": 4,
  "nbformat_minor": 0,
  "metadata": {
    "colab": {
      "provenance": [],
      "authorship_tag": "ABX9TyMEUjSHIKK5CXU5gEjveJob",
      "include_colab_link": true
    },
    "kernelspec": {
      "name": "python3",
      "display_name": "Python 3"
    },
    "language_info": {
      "name": "python"
    }
  },
  "cells": [
    {
      "cell_type": "markdown",
      "metadata": {
        "id": "view-in-github",
        "colab_type": "text"
      },
      "source": [
        "<a href=\"https://colab.research.google.com/github/papporica123/capstrone-project-1/blob/main/Untitled8.ipynb\" target=\"_parent\"><img src=\"https://colab.research.google.com/assets/colab-badge.svg\" alt=\"Open In Colab\"/></a>"
      ]
    },
    {
      "cell_type": "code",
      "execution_count": 1,
      "metadata": {
        "colab": {
          "base_uri": "https://localhost:8080/"
        },
        "id": "KAvKzB7G4rTc",
        "outputId": "915a933f-dd40-46db-cb37-0098bcde3c6b"
      },
      "outputs": [
        {
          "output_type": "stream",
          "name": "stdout",
          "text": [
            "Enter a binary number: 100010010\n",
            "The decimal value of binary 100010010 is: 274\n"
          ]
        }
      ],
      "source": [
        "def binary_to_decimal(binary_str):\n",
        "    \"\"\"Function to convert binary string to decimal integer\"\"\"\n",
        "    decimal_value = 0\n",
        "    for digit in binary_str:\n",
        "        decimal_value = decimal_value * 2 + int(digit)\n",
        "    return decimal_value\n",
        "\n",
        "# Input: binary string\n",
        "binary_input = input(\"Enter a binary number: \")\n",
        "\n",
        "# Convert and output the result\n",
        "try:\n",
        "    decimal_output = binary_to_decimal(binary_input)\n",
        "    print(f\"The decimal value of binary {binary_input} is: {decimal_output}\")\n",
        "except ValueError:\n",
        "    print(\"Please enter a valid binary number (only 0s and 1s).\")\n"
      ]
    }
  ]
}