{
  "nbformat": 4,
  "nbformat_minor": 0,
  "metadata": {
    "colab": {
      "provenance": [],
      "authorship_tag": "ABX9TyOtokwjSN+6/vz9Yf/YmN0/",
      "include_colab_link": true
    },
    "kernelspec": {
      "name": "python3",
      "display_name": "Python 3"
    },
    "language_info": {
      "name": "python"
    }
  },
  "cells": [
    {
      "cell_type": "markdown",
      "metadata": {
        "id": "view-in-github",
        "colab_type": "text"
      },
      "source": [
        "<a href=\"https://colab.research.google.com/github/papporica123/capstrone-project-1/blob/main/Untitled7.ipynb\" target=\"_parent\"><img src=\"https://colab.research.google.com/assets/colab-badge.svg\" alt=\"Open In Colab\"/></a>"
      ]
    },
    {
      "cell_type": "code",
      "execution_count": 1,
      "metadata": {
        "colab": {
          "base_uri": "https://localhost:8080/"
        },
        "id": "s6hCtf_b4MTZ",
        "outputId": "26acaaf1-22ba-449b-b2f4-bf3dbecb42fb"
      },
      "outputs": [
        {
          "output_type": "stream",
          "name": "stdout",
          "text": [
            "Enter the first number: 3\n",
            "Enter the second number: 2\n",
            "The LCM of 3 and 2 is: 6\n"
          ]
        }
      ],
      "source": [
        "def gcd(a, b):\n",
        "    \"\"\"Function to calculate the greatest common divisor (GCD)\"\"\"\n",
        "    while b:\n",
        "        a, b = b, a % b\n",
        "    return a\n",
        "\n",
        "def lcm(a, b):\n",
        "    \"\"\"Function to calculate the least common multiple (LCM)\"\"\"\n",
        "    return abs(a * b) // gcd(a, b)\n",
        "\n",
        "# Input: two numbers\n",
        "num1 = int(input(\"Enter the first number: \"))\n",
        "num2 = int(input(\"Enter the second number: \"))\n",
        "\n",
        "# Calculate LCM\n",
        "result = lcm(num1, num2)\n",
        "\n",
        "print(f\"The LCM of {num1} and {num2} is: {result}\")\n"
      ]
    }
  ]
}