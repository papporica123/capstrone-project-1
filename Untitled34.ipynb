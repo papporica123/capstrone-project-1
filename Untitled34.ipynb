{
  "nbformat": 4,
  "nbformat_minor": 0,
  "metadata": {
    "colab": {
      "provenance": [],
      "authorship_tag": "ABX9TyO4CnJSX1bDU8b9pB50LYDq",
      "include_colab_link": true
    },
    "kernelspec": {
      "name": "python3",
      "display_name": "Python 3"
    },
    "language_info": {
      "name": "python"
    }
  },
  "cells": [
    {
      "cell_type": "markdown",
      "metadata": {
        "id": "view-in-github",
        "colab_type": "text"
      },
      "source": [
        "<a href=\"https://colab.research.google.com/github/papporica123/capstrone-project-1/blob/main/Untitled34.ipynb\" target=\"_parent\"><img src=\"https://colab.research.google.com/assets/colab-badge.svg\" alt=\"Open In Colab\"/></a>"
      ]
    },
    {
      "cell_type": "code",
      "execution_count": 1,
      "metadata": {
        "colab": {
          "base_uri": "https://localhost:8080/"
        },
        "id": "iCAgt8_2f0Sn",
        "outputId": "c8f8d228-3c60-4682-f57f-9a5f93f03414"
      },
      "outputs": [
        {
          "output_type": "stream",
          "name": "stdout",
          "text": [
            "{'z', 'x', 'b', 'y', 'a', 'v', 'd', 'c'}\n",
            "{'d', 'b'}\n",
            "{'c', 'a'}\n"
          ]
        }
      ],
      "source": [
        "set1={'a','b','c','d'}\n",
        "set2={'b','d','v','x','y','z'}\n",
        "unoin=set1.union(set2)\n",
        "print(unoin)\n",
        "intersection=set1.intersection(set2)\n",
        "print(intersection)\n",
        "difference=set1.difference(set2)\n",
        "print(difference)"
      ]
    },
    {
      "cell_type": "code",
      "source": [
        "def abc(a,b,c):\n",
        "  prob_a=len(a)/len(c)\n",
        "  prob_b=len(b)/len(c)\n",
        "  inter=a.intersection(b)\n",
        "  prob_intersection=len(inter)/len(c)\n",
        "  return prob_a+prob_b-prob_intersection\n",
        "even= {2,4,6}\n",
        "odd={1,3,5}\n",
        "all={1,2,3,4,5,6}\n",
        "print(abc(even,odd,all))\n"
      ],
      "metadata": {
        "colab": {
          "base_uri": "https://localhost:8080/"
        },
        "id": "vqS5r04ehPuJ",
        "outputId": "57196e35-54a0-47ce-c350-84652fe21320"
      },
      "execution_count": 3,
      "outputs": [
        {
          "output_type": "stream",
          "name": "stdout",
          "text": [
            "1.0\n"
          ]
        }
      ]
    }
  ]
}