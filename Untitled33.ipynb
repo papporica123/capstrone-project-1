{
  "nbformat": 4,
  "nbformat_minor": 0,
  "metadata": {
    "colab": {
      "provenance": [],
      "authorship_tag": "ABX9TyOXG2wTQHEFFxVv+vEDVFxM",
      "include_colab_link": true
    },
    "kernelspec": {
      "name": "python3",
      "display_name": "Python 3"
    },
    "language_info": {
      "name": "python"
    }
  },
  "cells": [
    {
      "cell_type": "markdown",
      "metadata": {
        "id": "view-in-github",
        "colab_type": "text"
      },
      "source": [
        "<a href=\"https://colab.research.google.com/github/papporica123/capstrone-project-1/blob/main/Untitled33.ipynb\" target=\"_parent\"><img src=\"https://colab.research.google.com/assets/colab-badge.svg\" alt=\"Open In Colab\"/></a>"
      ]
    },
    {
      "cell_type": "code",
      "source": [
        "import random\n",
        "\n",
        "def card_take_experiment():\n",
        "    numbers = [1, 2, 3, 4, 5, 6,7,8,9,10,11,12,13]  # Standard die faces\n",
        "    result = random.choice(numbers)  # Simulate a dice roll\n",
        "    probability_of_6 = (numbers.count(13) / len(numbers)) * 100  # Probability as a percentage\n",
        "\n",
        "    # Display the probability\n",
        "    print(f\"Probability of taking a joker: {int(probability_of_6)}%\")  # Whole number output\n",
        "\n",
        "    # Display the result of the dice roll\n",
        "    print(f\"card probability: {result}\")\n",
        "\n",
        "    # Check the win condition\n",
        "    if result == 1:\n",
        "        print(\"You won!\")\n",
        "    else:\n",
        "        print(\"You lost. Try again!\")\n",
        "\n",
        "# Run the experiment\n",
        "card_take_experiment()\n"
      ],
      "metadata": {
        "colab": {
          "base_uri": "https://localhost:8080/"
        },
        "id": "oar3WVwa9Woq",
        "outputId": "76531fb3-0930-414c-8729-58d5ccc0970d"
      },
      "execution_count": 4,
      "outputs": [
        {
          "output_type": "stream",
          "name": "stdout",
          "text": [
            "Probability of taking a joker: 7%\n",
            "card probability: 11\n",
            "You lost. Try again!\n"
          ]
        }
      ]
    }
  ]
}