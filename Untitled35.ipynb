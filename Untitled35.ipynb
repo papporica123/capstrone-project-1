{
  "nbformat": 4,
  "nbformat_minor": 0,
  "metadata": {
    "colab": {
      "provenance": [],
      "authorship_tag": "ABX9TyNgK8xl7wuy7JTUC5vM63v/",
      "include_colab_link": true
    },
    "kernelspec": {
      "name": "python3",
      "display_name": "Python 3"
    },
    "language_info": {
      "name": "python"
    }
  },
  "cells": [
    {
      "cell_type": "markdown",
      "metadata": {
        "id": "view-in-github",
        "colab_type": "text"
      },
      "source": [
        "<a href=\"https://colab.research.google.com/github/papporica123/capstrone-project-1/blob/main/Untitled35.ipynb\" target=\"_parent\"><img src=\"https://colab.research.google.com/assets/colab-badge.svg\" alt=\"Open In Colab\"/></a>"
      ]
    },
    {
      "cell_type": "code",
      "execution_count": null,
      "metadata": {
        "colab": {
          "base_uri": "https://localhost:8080/"
        },
        "id": "hdIpSfTx-NBY",
        "outputId": "40de547a-8f07-46ac-b173-08d059bf7ba8"
      },
      "outputs": [
        {
          "output_type": "stream",
          "name": "stdout",
          "text": [
            "Check the probability of any event occuring. First enter your choices.\n",
            "Is the student a Freshman? \n",
            " 1. Yes \n",
            " 2. No\n",
            "Enter your choice (1/2): 1\n",
            "Is student eating in dining hall? \n",
            " 1. Yes \n",
            " 2. No\n",
            "Enter your choice (1/2): 2\n",
            "Probability of a given b: 0.25\n",
            "Here is the probability of both the events occuring : 0.075\n"
          ]
        }
      ],
      "source": [
        "def a_and_b(a, b):\n",
        "\n",
        "\tif a==1:\n",
        "\t\tprob_student = 0.3\n",
        "\t\tif b ==1:\n",
        "\t\t\tprob_dining = 0.75\n",
        "\t\telse:\n",
        "\t\t\tprob_dining = 0.25\n",
        "\t\tprint(\"Probability of a given b:\", prob_dining)\n",
        "\n",
        "\tif a==2:\n",
        "\t\tprob_student=0.7\n",
        "\t\tif b==1:\n",
        "\t\t\tprob_dining = 0.6\n",
        "\t\telse:\n",
        "\t\t\tprob_dining = 0.4\n",
        "\t\tprint(\"Probability of a given b:\", prob_dining)\n",
        "\n",
        "\tprob_a_and_b = prob_student*prob_dining\n",
        "\treturn round(prob_a_and_b, 3)\n",
        "\n",
        "print(\"Check the probability of any event occuring. First enter your choices.\")\n",
        "\n",
        "print(\"Is the student a Freshman? \\n 1. Yes \\n 2. No\")\n",
        "a = int(input(\"Enter your choice (1/2): \"))\n",
        "\n",
        "print(\"Is student eating in dining hall? \\n 1. Yes \\n 2. No\")\n",
        "b = int(input(\"Enter your choice (1/2): \"))\n",
        "\n",
        "print(\"Here is the probability of both the events occuring :\", a_and_b(a, b))\n"
      ]
    },
    {
      "cell_type": "code",
      "source": [
        "def xyz(a,b,total):\n",
        "  prob_a=orange/total\n",
        "  prob_bga=blue/(total-1)\n",
        "  prob_a_and_b=prob_a*prob_bga\n",
        "  return round(prob_a_and_b,3)\n",
        "orange=int(input(\"enter a number for orange balls\"))\n",
        "blue=int(input(\"enter a number for blue balls\"))\n",
        "total=orange+blue\n",
        "print(xyz(a,b,total))"
      ],
      "metadata": {
        "colab": {
          "base_uri": "https://localhost:8080/"
        },
        "id": "1-hMu-rTCbut",
        "outputId": "17d914d4-c4c6-4a0f-abc1-93a1cc1dfe6a"
      },
      "execution_count": null,
      "outputs": [
        {
          "output_type": "stream",
          "name": "stdout",
          "text": [
            "enter a number for orange balls12\n",
            "enter a number for blue balls1\n",
            "0.077\n"
          ]
        }
      ]
    }
  ]
}