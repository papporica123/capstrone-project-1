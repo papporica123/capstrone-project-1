{
  "nbformat": 4,
  "nbformat_minor": 0,
  "metadata": {
    "colab": {
      "provenance": [],
      "authorship_tag": "ABX9TyMaQBocejS/D/Fyuid/wF5x",
      "include_colab_link": true
    },
    "kernelspec": {
      "name": "python3",
      "display_name": "Python 3"
    },
    "language_info": {
      "name": "python"
    }
  },
  "cells": [
    {
      "cell_type": "markdown",
      "metadata": {
        "id": "view-in-github",
        "colab_type": "text"
      },
      "source": [
        "<a href=\"https://colab.research.google.com/github/papporica123/capstrone-project-1/blob/main/Untitled32.ipynb\" target=\"_parent\"><img src=\"https://colab.research.google.com/assets/colab-badge.svg\" alt=\"Open In Colab\"/></a>"
      ]
    },
    {
      "cell_type": "code",
      "execution_count": null,
      "metadata": {
        "colab": {
          "base_uri": "https://localhost:8080/"
        },
        "id": "KUIAWODL69Dy",
        "outputId": "08e901ac-1ddd-4b31-ad23-bf12328bdaba"
      },
      "outputs": [
        {
          "output_type": "stream",
          "name": "stdout",
          "text": [
            "0.06666666666666667\n",
            "You lost\n"
          ]
        }
      ],
      "source": [
        "import random\n",
        "def dice_roll_experiment():\n",
        "  numbers=[1,2,3,4,5,6,7,8,9,10,11,12,13,14,15]\n",
        "  result=random.choice(numbers)\n",
        "  pro=numbers.count(6)/len(numbers)\n",
        "  print(pro)\n",
        "  if result==3:\n",
        "    print(\"You won\")\n",
        "  else:\n",
        "    print(\"You lost\")\n",
        "dice_roll_experiment()"
      ]
    },
    {
      "cell_type": "code",
      "source": [
        "import random\n",
        "\n",
        "def dice_roll_experiment():\n",
        "    numbers = [1, 2, 3, 4, 5, 6]  # Standard die faces\n",
        "    result = random.choice(numbers)\n",
        "    pro = (numbers.count(6) / len(numbers)) * 100  # Convert probability to percentage\n",
        "    print(f\"Probability of rolling a 6: {int(pro)}%\")  # Display only whole number percentage\n",
        "    print(f\"Dice rolled: {result}\")\n",
        "    if result == 3:\n",
        "        print(\"You won\")\n",
        "    else:\n",
        "        print(\"You lost\")\n",
        "\n",
        "dice_roll_experiment()\n"
      ],
      "metadata": {
        "colab": {
          "base_uri": "https://localhost:8080/"
        },
        "id": "2P-2rOtq80Qv",
        "outputId": "8ea184ea-2b78-4df5-f563-8aaa6167237f"
      },
      "execution_count": null,
      "outputs": [
        {
          "output_type": "stream",
          "name": "stdout",
          "text": [
            "Probability of rolling a 6: 16%\n",
            "Dice rolled: 1\n",
            "You lost\n"
          ]
        }
      ]
    },
    {
      "cell_type": "code",
      "source": [
        "import random\n",
        "\n",
        "def dice_roll_experiment():\n",
        "    numbers = [1, 2, 3, 4, 5, 6,7,8,9,10]  # Standard die faces\n",
        "    result = random.choice(numbers)  # Simulate a dice roll\n",
        "    probability_of_6 = (numbers.count(10) / len(numbers)) * 100  # Probability as a percentage\n",
        "\n",
        "    # Display the probability\n",
        "    print(f\"Probability of rolling a 10: {int(probability_of_6)}%\")  # Whole number output\n",
        "\n",
        "    # Display the result of the dice roll\n",
        "    print(f\"Dice rolled: {result}\")\n",
        "\n",
        "    # Check the win condition\n",
        "    if result == 10:\n",
        "        print(\"You won!\")\n",
        "    else:\n",
        "        print(\"You lost. Try again!\")\n",
        "\n",
        "# Run the experiment\n",
        "dice_roll_experiment()\n"
      ],
      "metadata": {
        "colab": {
          "base_uri": "https://localhost:8080/"
        },
        "id": "oar3WVwa9Woq",
        "outputId": "99c9c81b-7521-44fc-986c-f409ba995d48"
      },
      "execution_count": null,
      "outputs": [
        {
          "output_type": "stream",
          "name": "stdout",
          "text": [
            "Probability of rolling a 10: 10%\n",
            "Dice rolled: 7\n",
            "You lost. Try again!\n"
          ]
        }
      ]
    }
  ]
}