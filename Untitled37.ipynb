{
  "nbformat": 4,
  "nbformat_minor": 0,
  "metadata": {
    "colab": {
      "provenance": [],
      "authorship_tag": "ABX9TyM2go9IUcjTrwxbUwGc8e2w",
      "include_colab_link": true
    },
    "kernelspec": {
      "name": "python3",
      "display_name": "Python 3"
    },
    "language_info": {
      "name": "python"
    }
  },
  "cells": [
    {
      "cell_type": "markdown",
      "metadata": {
        "id": "view-in-github",
        "colab_type": "text"
      },
      "source": [
        "<a href=\"https://colab.research.google.com/github/papporica123/capstrone-project-1/blob/main/Untitled37.ipynb\" target=\"_parent\"><img src=\"https://colab.research.google.com/assets/colab-badge.svg\" alt=\"Open In Colab\"/></a>"
      ]
    },
    {
      "cell_type": "code",
      "execution_count": null,
      "metadata": {
        "colab": {
          "base_uri": "https://localhost:8080/"
        },
        "id": "7w51SXpV_9vL",
        "outputId": "f0cf1128-16e2-4a0f-bfea-66f2c625c3af"
      },
      "outputs": [
        {
          "output_type": "stream",
          "name": "stdout",
          "text": [
            "0.171875\n"
          ]
        }
      ],
      "source": [
        "import scipy.stats as stats\n",
        "prob=1-stats.binom.cdf(6,10,0.5)\n",
        "print(prob)"
      ]
    },
    {
      "cell_type": "code",
      "source": [
        "import scipy.stats as stats\n",
        "prob1=stats.poisson.pmf(6,10)\n",
        "print(prob1)\n",
        "prob2=stats.poisson.pmf(12,10)+stats.poisson.pmf(13,10)+stats.poisson.pmf(14,10)\n",
        "print(prob2)"
      ],
      "metadata": {
        "colab": {
          "base_uri": "https://localhost:8080/"
        },
        "id": "bYLXVNxNAquQ",
        "outputId": "b624a5a6-f40b-4d2f-b514-4738fb4c5a05"
      },
      "execution_count": null,
      "outputs": [
        {
          "output_type": "stream",
          "name": "stdout",
          "text": [
            "0.06305545800345125\n",
            "0.21976538076223123\n"
          ]
        }
      ]
    },
    {
      "cell_type": "code",
      "source": [
        "import scipy.stats as stats\n",
        "prob1=1-stats.poisson.cdf(20,15)\n",
        "print(prob1)\n",
        "prob2=stats.poisson.cdf(21,15)-stats.poisson.cdf(16,15)\n",
        "print(prob2)"
      ],
      "metadata": {
        "colab": {
          "base_uri": "https://localhost:8080/"
        },
        "id": "Hak0LdmoCWKi",
        "outputId": "40789200-b5a3-4069-b9d5-f3fd8e41016a"
      },
      "execution_count": null,
      "outputs": [
        {
          "output_type": "stream",
          "name": "stdout",
          "text": [
            "0.08297091003146029\n",
            "0.2827703929341844\n"
          ]
        }
      ]
    },
    {
      "cell_type": "code",
      "source": [
        "abcedefghijklmnopqrstuvwxyz"
      ],
      "metadata": {
        "id": "AO8aNIFjCyc8"
      },
      "execution_count": null,
      "outputs": []
    }
  ]
}